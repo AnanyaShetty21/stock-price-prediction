{
 "cells": [
  {
   "cell_type": "code",
   "execution_count": 1,
   "id": "e8a0729e-a512-4079-bf3e-61a5d49ff394",
   "metadata": {},
   "outputs": [],
   "source": [
    "import pandas as pd\n",
    "import numpy as np\n",
    "from sklearn.model_selection import train_test_split\n",
    "from sklearn.preprocessing import MinMaxScaler"
   ]
  },
  {
   "cell_type": "code",
   "execution_count": 2,
   "id": "a73ad83e-311d-448f-9cec-f345b8ab69a3",
   "metadata": {},
   "outputs": [
    {
     "data": {
      "text/html": [
       "<div>\n",
       "<style scoped>\n",
       "    .dataframe tbody tr th:only-of-type {\n",
       "        vertical-align: middle;\n",
       "    }\n",
       "\n",
       "    .dataframe tbody tr th {\n",
       "        vertical-align: top;\n",
       "    }\n",
       "\n",
       "    .dataframe thead th {\n",
       "        text-align: right;\n",
       "    }\n",
       "</style>\n",
       "<table border=\"1\" class=\"dataframe\">\n",
       "  <thead>\n",
       "    <tr style=\"text-align: right;\">\n",
       "      <th></th>\n",
       "      <th>Date</th>\n",
       "      <th>Open</th>\n",
       "      <th>High</th>\n",
       "      <th>Low</th>\n",
       "      <th>Close</th>\n",
       "      <th>Volume</th>\n",
       "      <th>Dividends</th>\n",
       "      <th>Stock Splits</th>\n",
       "      <th>Previous Close</th>\n",
       "      <th>52-Week High</th>\n",
       "      <th>52-Week Low</th>\n",
       "      <th>50-Day Average</th>\n",
       "      <th>200-Day Average</th>\n",
       "    </tr>\n",
       "  </thead>\n",
       "  <tbody>\n",
       "    <tr>\n",
       "      <th>1231</th>\n",
       "      <td>2024-09-27 00:00:00+05:30</td>\n",
       "      <td>26248.250000</td>\n",
       "      <td>26277.349609</td>\n",
       "      <td>26151.400391</td>\n",
       "      <td>26178.949219</td>\n",
       "      <td>490300</td>\n",
       "      <td>0.0</td>\n",
       "      <td>0.0</td>\n",
       "      <td>25250.1</td>\n",
       "      <td>26277.35</td>\n",
       "      <td>18837.85</td>\n",
       "      <td>25033.871</td>\n",
       "      <td>23118.842</td>\n",
       "    </tr>\n",
       "    <tr>\n",
       "      <th>1232</th>\n",
       "      <td>2024-09-30 00:00:00+05:30</td>\n",
       "      <td>26061.300781</td>\n",
       "      <td>26134.699219</td>\n",
       "      <td>25794.099609</td>\n",
       "      <td>25810.849609</td>\n",
       "      <td>343100</td>\n",
       "      <td>0.0</td>\n",
       "      <td>0.0</td>\n",
       "      <td>25250.1</td>\n",
       "      <td>26277.35</td>\n",
       "      <td>18837.85</td>\n",
       "      <td>25033.871</td>\n",
       "      <td>23118.842</td>\n",
       "    </tr>\n",
       "    <tr>\n",
       "      <th>1233</th>\n",
       "      <td>2024-10-01 00:00:00+05:30</td>\n",
       "      <td>25788.449219</td>\n",
       "      <td>25907.599609</td>\n",
       "      <td>25739.199219</td>\n",
       "      <td>25796.900391</td>\n",
       "      <td>247400</td>\n",
       "      <td>0.0</td>\n",
       "      <td>0.0</td>\n",
       "      <td>25250.1</td>\n",
       "      <td>26277.35</td>\n",
       "      <td>18837.85</td>\n",
       "      <td>25033.871</td>\n",
       "      <td>23118.842</td>\n",
       "    </tr>\n",
       "    <tr>\n",
       "      <th>1234</th>\n",
       "      <td>2024-10-03 00:00:00+05:30</td>\n",
       "      <td>25452.849609</td>\n",
       "      <td>25639.449219</td>\n",
       "      <td>25230.300781</td>\n",
       "      <td>25250.099609</td>\n",
       "      <td>423400</td>\n",
       "      <td>0.0</td>\n",
       "      <td>0.0</td>\n",
       "      <td>25250.1</td>\n",
       "      <td>26277.35</td>\n",
       "      <td>18837.85</td>\n",
       "      <td>25033.871</td>\n",
       "      <td>23118.842</td>\n",
       "    </tr>\n",
       "    <tr>\n",
       "      <th>1235</th>\n",
       "      <td>2024-10-04 00:00:00+05:30</td>\n",
       "      <td>25181.900391</td>\n",
       "      <td>25485.050781</td>\n",
       "      <td>24966.800781</td>\n",
       "      <td>25014.599609</td>\n",
       "      <td>374900</td>\n",
       "      <td>0.0</td>\n",
       "      <td>0.0</td>\n",
       "      <td>25250.1</td>\n",
       "      <td>26277.35</td>\n",
       "      <td>18837.85</td>\n",
       "      <td>25033.871</td>\n",
       "      <td>23118.842</td>\n",
       "    </tr>\n",
       "  </tbody>\n",
       "</table>\n",
       "</div>"
      ],
      "text/plain": [
       "                           Date          Open          High           Low  \\\n",
       "1231  2024-09-27 00:00:00+05:30  26248.250000  26277.349609  26151.400391   \n",
       "1232  2024-09-30 00:00:00+05:30  26061.300781  26134.699219  25794.099609   \n",
       "1233  2024-10-01 00:00:00+05:30  25788.449219  25907.599609  25739.199219   \n",
       "1234  2024-10-03 00:00:00+05:30  25452.849609  25639.449219  25230.300781   \n",
       "1235  2024-10-04 00:00:00+05:30  25181.900391  25485.050781  24966.800781   \n",
       "\n",
       "             Close  Volume  Dividends  Stock Splits  Previous Close  \\\n",
       "1231  26178.949219  490300        0.0           0.0         25250.1   \n",
       "1232  25810.849609  343100        0.0           0.0         25250.1   \n",
       "1233  25796.900391  247400        0.0           0.0         25250.1   \n",
       "1234  25250.099609  423400        0.0           0.0         25250.1   \n",
       "1235  25014.599609  374900        0.0           0.0         25250.1   \n",
       "\n",
       "      52-Week High  52-Week Low  50-Day Average  200-Day Average  \n",
       "1231      26277.35     18837.85       25033.871        23118.842  \n",
       "1232      26277.35     18837.85       25033.871        23118.842  \n",
       "1233      26277.35     18837.85       25033.871        23118.842  \n",
       "1234      26277.35     18837.85       25033.871        23118.842  \n",
       "1235      26277.35     18837.85       25033.871        23118.842  "
      ]
     },
     "execution_count": 2,
     "metadata": {},
     "output_type": "execute_result"
    }
   ],
   "source": [
    "df = pd.read_csv('nifty_data.csv')\n",
    "df.tail()"
   ]
  },
  {
   "cell_type": "code",
   "execution_count": 3,
   "id": "ab41a93f-e849-4474-acfa-17ec3d413848",
   "metadata": {},
   "outputs": [],
   "source": [
    "df['Date'] = pd.to_datetime(df['Date'])"
   ]
  },
  {
   "cell_type": "code",
   "execution_count": 4,
   "id": "27a749ca-05ba-4425-b952-8dc043660f03",
   "metadata": {},
   "outputs": [],
   "source": [
    "df['Day'] = df['Date'].dt.day\n",
    "df['Month'] = df['Date'].dt.month\n",
    "df['Year'] = df['Date'].dt.year\n",
    "df['Week'] = df['Date'].dt.dayofweek"
   ]
  },
  {
   "cell_type": "code",
   "execution_count": 5,
   "id": "90ec0144-01da-4b05-a4bb-0f5f25f4b342",
   "metadata": {},
   "outputs": [],
   "source": [
    "df['Timestamp'] = df['Date'].apply(lambda x: x.timestamp())"
   ]
  },
  {
   "cell_type": "code",
   "execution_count": 6,
   "id": "2d48959d-b2d9-4a95-9278-7fdc98c39512",
   "metadata": {},
   "outputs": [
    {
     "data": {
      "text/html": [
       "<div>\n",
       "<style scoped>\n",
       "    .dataframe tbody tr th:only-of-type {\n",
       "        vertical-align: middle;\n",
       "    }\n",
       "\n",
       "    .dataframe tbody tr th {\n",
       "        vertical-align: top;\n",
       "    }\n",
       "\n",
       "    .dataframe thead th {\n",
       "        text-align: right;\n",
       "    }\n",
       "</style>\n",
       "<table border=\"1\" class=\"dataframe\">\n",
       "  <thead>\n",
       "    <tr style=\"text-align: right;\">\n",
       "      <th></th>\n",
       "      <th>Open</th>\n",
       "      <th>High</th>\n",
       "      <th>Low</th>\n",
       "      <th>Close</th>\n",
       "      <th>Volume</th>\n",
       "      <th>Previous Close</th>\n",
       "      <th>52-Week High</th>\n",
       "      <th>52-Week Low</th>\n",
       "      <th>50-Day Average</th>\n",
       "      <th>200-Day Average</th>\n",
       "      <th>Day</th>\n",
       "      <th>Month</th>\n",
       "      <th>Year</th>\n",
       "      <th>Week</th>\n",
       "      <th>Timestamp</th>\n",
       "    </tr>\n",
       "  </thead>\n",
       "  <tbody>\n",
       "    <tr>\n",
       "      <th>0</th>\n",
       "      <td>11388.450195</td>\n",
       "      <td>11400.299805</td>\n",
       "      <td>11158.349609</td>\n",
       "      <td>11174.750000</td>\n",
       "      <td>928500</td>\n",
       "      <td>25250.1</td>\n",
       "      <td>26277.35</td>\n",
       "      <td>18837.85</td>\n",
       "      <td>25033.871</td>\n",
       "      <td>23118.842</td>\n",
       "      <td>4</td>\n",
       "      <td>10</td>\n",
       "      <td>2019</td>\n",
       "      <td>4</td>\n",
       "      <td>1.570127e+09</td>\n",
       "    </tr>\n",
       "    <tr>\n",
       "      <th>1</th>\n",
       "      <td>11196.200195</td>\n",
       "      <td>11233.849609</td>\n",
       "      <td>11112.650391</td>\n",
       "      <td>11126.400391</td>\n",
       "      <td>733200</td>\n",
       "      <td>25250.1</td>\n",
       "      <td>26277.35</td>\n",
       "      <td>18837.85</td>\n",
       "      <td>25033.871</td>\n",
       "      <td>23118.842</td>\n",
       "      <td>7</td>\n",
       "      <td>10</td>\n",
       "      <td>2019</td>\n",
       "      <td>0</td>\n",
       "      <td>1.570387e+09</td>\n",
       "    </tr>\n",
       "    <tr>\n",
       "      <th>2</th>\n",
       "      <td>11152.950195</td>\n",
       "      <td>11321.599609</td>\n",
       "      <td>11090.150391</td>\n",
       "      <td>11313.299805</td>\n",
       "      <td>741100</td>\n",
       "      <td>25250.1</td>\n",
       "      <td>26277.35</td>\n",
       "      <td>18837.85</td>\n",
       "      <td>25033.871</td>\n",
       "      <td>23118.842</td>\n",
       "      <td>9</td>\n",
       "      <td>10</td>\n",
       "      <td>2019</td>\n",
       "      <td>2</td>\n",
       "      <td>1.570559e+09</td>\n",
       "    </tr>\n",
       "    <tr>\n",
       "      <th>3</th>\n",
       "      <td>11280.500000</td>\n",
       "      <td>11293.349609</td>\n",
       "      <td>11208.549805</td>\n",
       "      <td>11234.549805</td>\n",
       "      <td>562000</td>\n",
       "      <td>25250.1</td>\n",
       "      <td>26277.35</td>\n",
       "      <td>18837.85</td>\n",
       "      <td>25033.871</td>\n",
       "      <td>23118.842</td>\n",
       "      <td>10</td>\n",
       "      <td>10</td>\n",
       "      <td>2019</td>\n",
       "      <td>3</td>\n",
       "      <td>1.570646e+09</td>\n",
       "    </tr>\n",
       "    <tr>\n",
       "      <th>4</th>\n",
       "      <td>11257.700195</td>\n",
       "      <td>11362.900391</td>\n",
       "      <td>11189.400391</td>\n",
       "      <td>11305.049805</td>\n",
       "      <td>737800</td>\n",
       "      <td>25250.1</td>\n",
       "      <td>26277.35</td>\n",
       "      <td>18837.85</td>\n",
       "      <td>25033.871</td>\n",
       "      <td>23118.842</td>\n",
       "      <td>11</td>\n",
       "      <td>10</td>\n",
       "      <td>2019</td>\n",
       "      <td>4</td>\n",
       "      <td>1.570732e+09</td>\n",
       "    </tr>\n",
       "  </tbody>\n",
       "</table>\n",
       "</div>"
      ],
      "text/plain": [
       "           Open          High           Low         Close  Volume  \\\n",
       "0  11388.450195  11400.299805  11158.349609  11174.750000  928500   \n",
       "1  11196.200195  11233.849609  11112.650391  11126.400391  733200   \n",
       "2  11152.950195  11321.599609  11090.150391  11313.299805  741100   \n",
       "3  11280.500000  11293.349609  11208.549805  11234.549805  562000   \n",
       "4  11257.700195  11362.900391  11189.400391  11305.049805  737800   \n",
       "\n",
       "   Previous Close  52-Week High  52-Week Low  50-Day Average  200-Day Average  \\\n",
       "0         25250.1      26277.35     18837.85       25033.871        23118.842   \n",
       "1         25250.1      26277.35     18837.85       25033.871        23118.842   \n",
       "2         25250.1      26277.35     18837.85       25033.871        23118.842   \n",
       "3         25250.1      26277.35     18837.85       25033.871        23118.842   \n",
       "4         25250.1      26277.35     18837.85       25033.871        23118.842   \n",
       "\n",
       "   Day  Month  Year  Week     Timestamp  \n",
       "0    4     10  2019     4  1.570127e+09  \n",
       "1    7     10  2019     0  1.570387e+09  \n",
       "2    9     10  2019     2  1.570559e+09  \n",
       "3   10     10  2019     3  1.570646e+09  \n",
       "4   11     10  2019     4  1.570732e+09  "
      ]
     },
     "execution_count": 6,
     "metadata": {},
     "output_type": "execute_result"
    }
   ],
   "source": [
    "df = df.drop(columns = ['Date', 'Dividends', 'Stock Splits'])\n",
    "df.head()"
   ]
  },
  {
   "cell_type": "code",
   "execution_count": 7,
   "id": "6c614742-6856-461b-a203-cca4600fdb58",
   "metadata": {},
   "outputs": [],
   "source": [
    "x = df.drop(['Close'], axis = 1)\n",
    "y = df['Close']"
   ]
  },
  {
   "cell_type": "code",
   "execution_count": 8,
   "id": "c33e488d-9749-43bb-8104-ae02c4efa472",
   "metadata": {},
   "outputs": [],
   "source": [
    "x_sequences = []\n",
    "y_sequences = []"
   ]
  },
  {
   "cell_type": "code",
   "execution_count": 9,
   "id": "053d0627-a691-4e93-9bfc-1f21bad2b321",
   "metadata": {},
   "outputs": [],
   "source": [
    "sequence_length = 5"
   ]
  },
  {
   "cell_type": "code",
   "execution_count": 10,
   "id": "07e976d8-92f3-4ed5-8277-0994e536dd24",
   "metadata": {},
   "outputs": [],
   "source": [
    "for i in range(sequence_length, len(x)):\n",
    "    x_sequences.append(x[i-sequence_length:i])\n",
    "    y_sequences.append(y[i])"
   ]
  },
  {
   "cell_type": "code",
   "execution_count": 11,
   "id": "6d166680-9805-4cb9-a093-8cbdb67133c3",
   "metadata": {},
   "outputs": [],
   "source": [
    "x_sequences = np.array(x_sequences)\n",
    "y_sequences = np.array(y_sequences)"
   ]
  },
  {
   "cell_type": "code",
   "execution_count": 12,
   "id": "74214a39-d2ae-4705-8bb3-2279456bb0dd",
   "metadata": {},
   "outputs": [],
   "source": [
    "x_train, x_test, y_train, y_test = train_test_split(x_sequences, y_sequences, test_size=0.2, shuffle=False)"
   ]
  },
  {
   "cell_type": "code",
   "execution_count": 13,
   "id": "7017b000-4c45-4047-88ab-fadba3d0eb75",
   "metadata": {},
   "outputs": [],
   "source": [
    "scaler_x = MinMaxScaler(feature_range = (0,1))\n",
    "scaler_y = MinMaxScaler(feature_range = (0,1))"
   ]
  },
  {
   "cell_type": "code",
   "execution_count": 14,
   "id": "68d4b793-e95a-450c-a51c-b9f628fb480e",
   "metadata": {},
   "outputs": [],
   "source": [
    "x_train_scaled = scaler_x.fit_transform(x_train.reshape(-1, x_train.shape[-1])).reshape(x_train.shape)\n",
    "y_train_scaled = scaler_y.fit_transform(y_train.reshape(-1, 1))"
   ]
  },
  {
   "cell_type": "code",
   "execution_count": 15,
   "id": "54534f2e-6649-430b-a7fd-f3e196aefbbd",
   "metadata": {},
   "outputs": [],
   "source": [
    "x_test_scaled = scaler_x.transform(x_test.reshape(-1, x_test.shape[-1])).reshape(x_test.shape)\n",
    "y_test_scaled = scaler_y.transform(y_test.reshape(-1, 1))"
   ]
  },
  {
   "cell_type": "code",
   "execution_count": 16,
   "id": "bc3f297d-b51f-4112-9dbc-0d649f39f51d",
   "metadata": {},
   "outputs": [
    {
     "name": "stderr",
     "output_type": "stream",
     "text": [
      "2024-10-06 12:17:17.839509: I tensorflow/core/util/port.cc:153] oneDNN custom operations are on. You may see slightly different numerical results due to floating-point round-off errors from different computation orders. To turn them off, set the environment variable `TF_ENABLE_ONEDNN_OPTS=0`.\n",
      "2024-10-06 12:17:17.840415: I external/local_xla/xla/tsl/cuda/cudart_stub.cc:32] Could not find cuda drivers on your machine, GPU will not be used.\n",
      "2024-10-06 12:17:17.844584: I external/local_xla/xla/tsl/cuda/cudart_stub.cc:32] Could not find cuda drivers on your machine, GPU will not be used.\n",
      "2024-10-06 12:17:17.857094: E external/local_xla/xla/stream_executor/cuda/cuda_fft.cc:485] Unable to register cuFFT factory: Attempting to register factory for plugin cuFFT when one has already been registered\n",
      "2024-10-06 12:17:17.875929: E external/local_xla/xla/stream_executor/cuda/cuda_dnn.cc:8454] Unable to register cuDNN factory: Attempting to register factory for plugin cuDNN when one has already been registered\n",
      "2024-10-06 12:17:17.881478: E external/local_xla/xla/stream_executor/cuda/cuda_blas.cc:1452] Unable to register cuBLAS factory: Attempting to register factory for plugin cuBLAS when one has already been registered\n",
      "2024-10-06 12:17:17.896368: I tensorflow/core/platform/cpu_feature_guard.cc:210] This TensorFlow binary is optimized to use available CPU instructions in performance-critical operations.\n",
      "To enable the following instructions: AVX2 AVX_VNNI FMA, in other operations, rebuild TensorFlow with the appropriate compiler flags.\n",
      "2024-10-06 12:17:18.836200: W tensorflow/compiler/tf2tensorrt/utils/py_utils.cc:38] TF-TRT Warning: Could not find TensorRT\n"
     ]
    }
   ],
   "source": [
    "import tensorflow as tf\n",
    "from tensorflow.keras.callbacks import EarlyStopping, ReduceLROnPlateau\n",
    "from tensorflow.keras.optimizers import Adam\n",
    "from tensorflow.keras.models import Sequential\n",
    "from tensorflow.keras.layers import LSTM, Input, Dense, Dropout\n",
    "import matplotlib.pyplot as plt"
   ]
  },
  {
   "cell_type": "code",
   "execution_count": 17,
   "id": "357869af-7266-44c9-8124-a90d4ad8bb41",
   "metadata": {},
   "outputs": [],
   "source": [
    "input_shape = (x_train.shape[1], x_train.shape[2])"
   ]
  },
  {
   "cell_type": "code",
   "execution_count": 18,
   "id": "453e0d1b-f1f6-4e9f-ab98-a41e102f921d",
   "metadata": {},
   "outputs": [
    {
     "name": "stderr",
     "output_type": "stream",
     "text": [
      "WARNING: All log messages before absl::InitializeLog() is called are written to STDERR\n",
      "I0000 00:00:1728197239.907366  981736 cuda_executor.cc:1015] successful NUMA node read from SysFS had negative value (-1), but there must be at least one NUMA node, so returning NUMA node zero. See more at https://github.com/torvalds/linux/blob/v6.0/Documentation/ABI/testing/sysfs-bus-pci#L344-L355\n",
      "2024-10-06 12:17:19.910756: W tensorflow/core/common_runtime/gpu/gpu_device.cc:2343] Cannot dlopen some GPU libraries. Please make sure the missing libraries mentioned above are installed properly if you would like to use GPU. Follow the guide at https://www.tensorflow.org/install/gpu for how to download and setup the required libraries for your platform.\n",
      "Skipping registering GPU devices...\n"
     ]
    }
   ],
   "source": [
    "model = Sequential([\n",
    "    Input(shape=input_shape),\n",
    "    LSTM(150, return_sequences=True),\n",
    "    Dropout(0.3),\n",
    "    LSTM(100, return_sequences=False),\n",
    "    Dropout(0.3),\n",
    "    Dense(1, activation='linear')\n",
    "])"
   ]
  },
  {
   "cell_type": "code",
   "execution_count": 19,
   "id": "70ca9a11-2f99-42a1-b7e5-fb95eead0870",
   "metadata": {},
   "outputs": [],
   "source": [
    "model.compile(optimizer='adam', loss='mean_squared_error')"
   ]
  },
  {
   "cell_type": "code",
   "execution_count": 20,
   "id": "95e0c682-5bc9-4b60-99ce-23616b1a9bd1",
   "metadata": {},
   "outputs": [],
   "source": [
    "early_stopping = EarlyStopping(monitor='val_loss', patience=10, restore_best_weights=True)\n",
    "lr_scheduler = ReduceLROnPlateau(monitor='val_loss', factor=0.5, patience=5, min_lr=1e-6)"
   ]
  },
  {
   "cell_type": "code",
   "execution_count": 21,
   "id": "c8177d1a-851e-4c71-b3b9-9d3e94401963",
   "metadata": {},
   "outputs": [
    {
     "name": "stdout",
     "output_type": "stream",
     "text": [
      "Epoch 1/100\n",
      "\u001b[1m28/28\u001b[0m \u001b[32m━━━━━━━━━━━━━━━━━━━━\u001b[0m\u001b[37m\u001b[0m \u001b[1m3s\u001b[0m 36ms/step - loss: 0.0373 - val_loss: 0.0014 - learning_rate: 0.0010\n",
      "Epoch 2/100\n",
      "\u001b[1m28/28\u001b[0m \u001b[32m━━━━━━━━━━━━━━━━━━━━\u001b[0m\u001b[37m\u001b[0m \u001b[1m0s\u001b[0m 14ms/step - loss: 0.0221 - val_loss: 0.0096 - learning_rate: 0.0010\n",
      "Epoch 3/100\n",
      "\u001b[1m28/28\u001b[0m \u001b[32m━━━━━━━━━━━━━━━━━━━━\u001b[0m\u001b[37m\u001b[0m \u001b[1m0s\u001b[0m 13ms/step - loss: 0.0065 - val_loss: 0.0031 - learning_rate: 0.0010\n",
      "Epoch 4/100\n",
      "\u001b[1m28/28\u001b[0m \u001b[32m━━━━━━━━━━━━━━━━━━━━\u001b[0m\u001b[37m\u001b[0m \u001b[1m0s\u001b[0m 14ms/step - loss: 0.0050 - val_loss: 0.0011 - learning_rate: 0.0010\n",
      "Epoch 5/100\n",
      "\u001b[1m28/28\u001b[0m \u001b[32m━━━━━━━━━━━━━━━━━━━━\u001b[0m\u001b[37m\u001b[0m \u001b[1m0s\u001b[0m 14ms/step - loss: 0.0026 - val_loss: 2.8645e-04 - learning_rate: 0.0010\n",
      "Epoch 6/100\n",
      "\u001b[1m28/28\u001b[0m \u001b[32m━━━━━━━━━━━━━━━━━━━━\u001b[0m\u001b[37m\u001b[0m \u001b[1m0s\u001b[0m 13ms/step - loss: 0.0024 - val_loss: 6.9947e-04 - learning_rate: 0.0010\n",
      "Epoch 7/100\n",
      "\u001b[1m28/28\u001b[0m \u001b[32m━━━━━━━━━━━━━━━━━━━━\u001b[0m\u001b[37m\u001b[0m \u001b[1m0s\u001b[0m 13ms/step - loss: 0.0033 - val_loss: 6.8971e-04 - learning_rate: 0.0010\n",
      "Epoch 8/100\n",
      "\u001b[1m28/28\u001b[0m \u001b[32m━━━━━━━━━━━━━━━━━━━━\u001b[0m\u001b[37m\u001b[0m \u001b[1m0s\u001b[0m 13ms/step - loss: 0.0026 - val_loss: 0.0011 - learning_rate: 0.0010\n",
      "Epoch 9/100\n",
      "\u001b[1m28/28\u001b[0m \u001b[32m━━━━━━━━━━━━━━━━━━━━\u001b[0m\u001b[37m\u001b[0m \u001b[1m0s\u001b[0m 13ms/step - loss: 0.0033 - val_loss: 0.0010 - learning_rate: 0.0010\n",
      "Epoch 10/100\n",
      "\u001b[1m28/28\u001b[0m \u001b[32m━━━━━━━━━━━━━━━━━━━━\u001b[0m\u001b[37m\u001b[0m \u001b[1m0s\u001b[0m 14ms/step - loss: 0.0054 - val_loss: 0.0078 - learning_rate: 0.0010\n",
      "Epoch 11/100\n",
      "\u001b[1m28/28\u001b[0m \u001b[32m━━━━━━━━━━━━━━━━━━━━\u001b[0m\u001b[37m\u001b[0m \u001b[1m0s\u001b[0m 13ms/step - loss: 0.0047 - val_loss: 5.0753e-04 - learning_rate: 5.0000e-04\n",
      "Epoch 12/100\n",
      "\u001b[1m28/28\u001b[0m \u001b[32m━━━━━━━━━━━━━━━━━━━━\u001b[0m\u001b[37m\u001b[0m \u001b[1m0s\u001b[0m 13ms/step - loss: 0.0064 - val_loss: 0.0014 - learning_rate: 5.0000e-04\n",
      "Epoch 13/100\n",
      "\u001b[1m28/28\u001b[0m \u001b[32m━━━━━━━━━━━━━━━━━━━━\u001b[0m\u001b[37m\u001b[0m \u001b[1m0s\u001b[0m 14ms/step - loss: 0.0049 - val_loss: 0.0034 - learning_rate: 5.0000e-04\n",
      "Epoch 14/100\n",
      "\u001b[1m28/28\u001b[0m \u001b[32m━━━━━━━━━━━━━━━━━━━━\u001b[0m\u001b[37m\u001b[0m \u001b[1m1s\u001b[0m 17ms/step - loss: 0.0022 - val_loss: 2.5348e-04 - learning_rate: 5.0000e-04\n",
      "Epoch 15/100\n",
      "\u001b[1m28/28\u001b[0m \u001b[32m━━━━━━━━━━━━━━━━━━━━\u001b[0m\u001b[37m\u001b[0m \u001b[1m0s\u001b[0m 14ms/step - loss: 0.0019 - val_loss: 2.1191e-04 - learning_rate: 5.0000e-04\n",
      "Epoch 16/100\n",
      "\u001b[1m28/28\u001b[0m \u001b[32m━━━━━━━━━━━━━━━━━━━━\u001b[0m\u001b[37m\u001b[0m \u001b[1m0s\u001b[0m 13ms/step - loss: 0.0019 - val_loss: 0.0012 - learning_rate: 2.5000e-04\n",
      "Epoch 17/100\n",
      "\u001b[1m28/28\u001b[0m \u001b[32m━━━━━━━━━━━━━━━━━━━━\u001b[0m\u001b[37m\u001b[0m \u001b[1m0s\u001b[0m 13ms/step - loss: 0.0018 - val_loss: 0.0015 - learning_rate: 2.5000e-04\n",
      "Epoch 18/100\n",
      "\u001b[1m28/28\u001b[0m \u001b[32m━━━━━━━━━━━━━━━━━━━━\u001b[0m\u001b[37m\u001b[0m \u001b[1m0s\u001b[0m 14ms/step - loss: 0.0018 - val_loss: 0.0020 - learning_rate: 2.5000e-04\n",
      "Epoch 19/100\n",
      "\u001b[1m28/28\u001b[0m \u001b[32m━━━━━━━━━━━━━━━━━━━━\u001b[0m\u001b[37m\u001b[0m \u001b[1m0s\u001b[0m 14ms/step - loss: 0.0020 - val_loss: 0.0012 - learning_rate: 2.5000e-04\n",
      "Epoch 20/100\n",
      "\u001b[1m28/28\u001b[0m \u001b[32m━━━━━━━━━━━━━━━━━━━━\u001b[0m\u001b[37m\u001b[0m \u001b[1m0s\u001b[0m 13ms/step - loss: 0.0018 - val_loss: 8.5877e-04 - learning_rate: 2.5000e-04\n",
      "Epoch 21/100\n",
      "\u001b[1m28/28\u001b[0m \u001b[32m━━━━━━━━━━━━━━━━━━━━\u001b[0m\u001b[37m\u001b[0m \u001b[1m0s\u001b[0m 13ms/step - loss: 0.0017 - val_loss: 5.7203e-04 - learning_rate: 1.2500e-04\n",
      "Epoch 22/100\n",
      "\u001b[1m28/28\u001b[0m \u001b[32m━━━━━━━━━━━━━━━━━━━━\u001b[0m\u001b[37m\u001b[0m \u001b[1m0s\u001b[0m 16ms/step - loss: 0.0017 - val_loss: 7.9481e-04 - learning_rate: 1.2500e-04\n",
      "Epoch 23/100\n",
      "\u001b[1m28/28\u001b[0m \u001b[32m━━━━━━━━━━━━━━━━━━━━\u001b[0m\u001b[37m\u001b[0m \u001b[1m0s\u001b[0m 15ms/step - loss: 0.0017 - val_loss: 8.6584e-04 - learning_rate: 1.2500e-04\n",
      "Epoch 24/100\n",
      "\u001b[1m28/28\u001b[0m \u001b[32m━━━━━━━━━━━━━━━━━━━━\u001b[0m\u001b[37m\u001b[0m \u001b[1m0s\u001b[0m 14ms/step - loss: 0.0018 - val_loss: 5.5849e-04 - learning_rate: 1.2500e-04\n",
      "Epoch 25/100\n",
      "\u001b[1m28/28\u001b[0m \u001b[32m━━━━━━━━━━━━━━━━━━━━\u001b[0m\u001b[37m\u001b[0m \u001b[1m0s\u001b[0m 14ms/step - loss: 0.0016 - val_loss: 6.2587e-04 - learning_rate: 1.2500e-04\n"
     ]
    }
   ],
   "source": [
    "history = model.fit(\n",
    "    x_train_scaled,\n",
    "    y_train_scaled,\n",
    "    epochs=100,\n",
    "    batch_size=32,\n",
    "    validation_split=0.1,\n",
    "    verbose=1,\n",
    "    shuffle=False,\n",
    "    callbacks=[early_stopping, lr_scheduler],\n",
    ")"
   ]
  },
  {
   "cell_type": "code",
   "execution_count": 22,
   "id": "13b46e96-f8c6-4876-b9c0-6b77952f7318",
   "metadata": {},
   "outputs": [
    {
     "name": "stdout",
     "output_type": "stream",
     "text": [
      "\u001b[1m8/8\u001b[0m \u001b[32m━━━━━━━━━━━━━━━━━━━━\u001b[0m\u001b[37m\u001b[0m \u001b[1m1s\u001b[0m 47ms/step\n"
     ]
    }
   ],
   "source": [
    "y_pred_scaled = model.predict(x_test_scaled)\n",
    "y_pred = scaler_y.inverse_transform(y_pred_scaled)"
   ]
  },
  {
   "cell_type": "code",
   "execution_count": 23,
   "id": "820787f3-72c7-4489-bd05-1b19e80095b8",
   "metadata": {},
   "outputs": [
    {
     "data": {
      "image/png": "[encoded data removed]",
      "text/plain": [
       "<Figure size 1000x600 with 1 Axes>"
      ]
     },
     "metadata": {},
     "output_type": "display_data"
    }
   ],
   "source": [
    "plt.figure(figsize=(10, 6))\n",
    "plt.plot(y_test, color='blue', label='Actual closing price')\n",
    "plt.plot(y_pred, color='red', label='Predicted closing price')\n",
    "plt.title('Stock Price Prediction using LSTM')\n",
    "plt.xlabel('Time')\n",
    "plt.ylabel('Price')\n",
    "plt.legend()\n",
    "plt.show()"
   ]
  },
  {
   "cell_type": "code",
   "execution_count": 24,
   "id": "b9659721-7876-424b-8b32-cdd09ab5dfe9",
   "metadata": {},
   "outputs": [],
   "source": [
    "model.save('lstm_stock_prediction_2.0.keras')"
   ]
  },
  {
   "cell_type": "code",
   "execution_count": null,
   "id": "075dc685-f30a-443c-91f0-c5be2fa14415",
   "metadata": {},
   "outputs": [],
   "source": []
  }
 ],
 "metadata": {
  "kernelspec": {
   "display_name": "Python 3 (ipykernel)",
   "language": "python",
   "name": "python3"
  },
  "language_info": {
   "codemirror_mode": {
    "name": "ipython",
    "version": 3
   },
   "file_extension": ".py",
   "mimetype": "text/x-python",
   "name": "python",
   "nbconvert_exporter": "python",
   "pygments_lexer": "ipython3",
   "version": "3.11.7"
  }
 },
 "nbformat": 4,
 "nbformat_minor": 5
}
