{
 "cells": [
  {
   "cell_type": "code",
   "execution_count": 1,
   "id": "430fb72f-47d3-4421-bb6e-6a2b3326fc63",
   "metadata": {},
   "outputs": [],
   "source": [
    "import yfinance as yf"
   ]
  },
  {
   "cell_type": "code",
   "execution_count": 2,
   "id": "a25afb65-1ed6-42d0-b7ec-fca72a84d9be",
   "metadata": {},
   "outputs": [
    {
     "data": {
      "text/plain": [
       "{'maxAge': 86400,\n",
       " 'priceHint': 2,\n",
       " 'previousClose': 25250.1,\n",
       " 'open': 25181.9,\n",
       " 'dayLow': 24966.8,\n",
       " 'dayHigh': 25485.05,\n",
       " 'regularMarketPreviousClose': 25250.1,\n",
       " 'regularMarketOpen': 25181.9,\n",
       " 'regularMarketDayLow': 24966.8,\n",
       " 'regularMarketDayHigh': 25485.05,\n",
       " 'averageVolume': 310261,\n",
       " 'averageVolume10days': 365490,\n",
       " 'averageDailyVolume10Day': 365490,\n",
       " 'fiftyTwoWeekLow': 18837.85,\n",
       " 'fiftyTwoWeekHigh': 26277.35,\n",
       " 'fiftyDayAverage': 25033.871,\n",
       " 'twoHundredDayAverage': 23118.842,\n",
       " 'currency': 'INR',\n",
       " 'exchange': 'NSI',\n",
       " 'quoteType': 'INDEX',\n",
       " 'symbol': '^NSEI',\n",
       " 'underlyingSymbol': '^NSEI',\n",
       " 'shortName': 'NIFTY 50',\n",
       " 'longName': 'NIFTY 50',\n",
       " 'firstTradeDateEpochUtc': 1190000700,\n",
       " 'timeZoneFullName': 'Asia/Kolkata',\n",
       " 'timeZoneShortName': 'IST',\n",
       " 'uuid': '9a3680d6-8f20-3f84-8cd3-66d847143a00',\n",
       " 'messageBoardId': 'finmb_INDEXNSEI',\n",
       " 'gmtOffSetMilliseconds': 19800000,\n",
       " 'trailingPegRatio': None}"
      ]
     },
     "execution_count": 2,
     "metadata": {},
     "output_type": "execute_result"
    }
   ],
   "source": [
    "nifty = yf.Ticker('^NSEI')\n",
    "nifty.info"
   ]
  },
  {
   "cell_type": "code",
   "execution_count": 3,
   "id": "0032b4b0-5940-4cf3-a987-529ab93bdc84",
   "metadata": {},
   "outputs": [],
   "source": [
    "timeframe = '5y'\n",
    "nifty_data = nifty.history(period=timeframe)"
   ]
  },
  {
   "cell_type": "code",
   "execution_count": 4,
   "id": "afad55b8-835b-4002-a281-7d6d1decdad0",
   "metadata": {},
   "outputs": [
    {
     "data": {
      "text/html": [
       "<div>\n",
       "<style scoped>\n",
       "    .dataframe tbody tr th:only-of-type {\n",
       "        vertical-align: middle;\n",
       "    }\n",
       "\n",
       "    .dataframe tbody tr th {\n",
       "        vertical-align: top;\n",
       "    }\n",
       "\n",
       "    .dataframe thead th {\n",
       "        text-align: right;\n",
       "    }\n",
       "</style>\n",
       "<table border=\"1\" class=\"dataframe\">\n",
       "  <thead>\n",
       "    <tr style=\"text-align: right;\">\n",
       "      <th></th>\n",
       "      <th>Open</th>\n",
       "      <th>High</th>\n",
       "      <th>Low</th>\n",
       "      <th>Close</th>\n",
       "      <th>Volume</th>\n",
       "      <th>Dividends</th>\n",
       "      <th>Stock Splits</th>\n",
       "    </tr>\n",
       "    <tr>\n",
       "      <th>Date</th>\n",
       "      <th></th>\n",
       "      <th></th>\n",
       "      <th></th>\n",
       "      <th></th>\n",
       "      <th></th>\n",
       "      <th></th>\n",
       "      <th></th>\n",
       "    </tr>\n",
       "  </thead>\n",
       "  <tbody>\n",
       "    <tr>\n",
       "      <th>2019-10-04 00:00:00+05:30</th>\n",
       "      <td>11388.450195</td>\n",
       "      <td>11400.299805</td>\n",
       "      <td>11158.349609</td>\n",
       "      <td>11174.750000</td>\n",
       "      <td>928500</td>\n",
       "      <td>0.0</td>\n",
       "      <td>0.0</td>\n",
       "    </tr>\n",
       "    <tr>\n",
       "      <th>2019-10-07 00:00:00+05:30</th>\n",
       "      <td>11196.200195</td>\n",
       "      <td>11233.849609</td>\n",
       "      <td>11112.650391</td>\n",
       "      <td>11126.400391</td>\n",
       "      <td>733200</td>\n",
       "      <td>0.0</td>\n",
       "      <td>0.0</td>\n",
       "    </tr>\n",
       "    <tr>\n",
       "      <th>2019-10-09 00:00:00+05:30</th>\n",
       "      <td>11152.950195</td>\n",
       "      <td>11321.599609</td>\n",
       "      <td>11090.150391</td>\n",
       "      <td>11313.299805</td>\n",
       "      <td>741100</td>\n",
       "      <td>0.0</td>\n",
       "      <td>0.0</td>\n",
       "    </tr>\n",
       "    <tr>\n",
       "      <th>2019-10-10 00:00:00+05:30</th>\n",
       "      <td>11280.500000</td>\n",
       "      <td>11293.349609</td>\n",
       "      <td>11208.549805</td>\n",
       "      <td>11234.549805</td>\n",
       "      <td>562000</td>\n",
       "      <td>0.0</td>\n",
       "      <td>0.0</td>\n",
       "    </tr>\n",
       "    <tr>\n",
       "      <th>2019-10-11 00:00:00+05:30</th>\n",
       "      <td>11257.700195</td>\n",
       "      <td>11362.900391</td>\n",
       "      <td>11189.400391</td>\n",
       "      <td>11305.049805</td>\n",
       "      <td>737800</td>\n",
       "      <td>0.0</td>\n",
       "      <td>0.0</td>\n",
       "    </tr>\n",
       "  </tbody>\n",
       "</table>\n",
       "</div>"
      ],
      "text/plain": [
       "                                   Open          High           Low  \\\n",
       "Date                                                                  \n",
       "2019-10-04 00:00:00+05:30  11388.450195  11400.299805  11158.349609   \n",
       "2019-10-07 00:00:00+05:30  11196.200195  11233.849609  11112.650391   \n",
       "2019-10-09 00:00:00+05:30  11152.950195  11321.599609  11090.150391   \n",
       "2019-10-10 00:00:00+05:30  11280.500000  11293.349609  11208.549805   \n",
       "2019-10-11 00:00:00+05:30  11257.700195  11362.900391  11189.400391   \n",
       "\n",
       "                                  Close  Volume  Dividends  Stock Splits  \n",
       "Date                                                                      \n",
       "2019-10-04 00:00:00+05:30  11174.750000  928500        0.0           0.0  \n",
       "2019-10-07 00:00:00+05:30  11126.400391  733200        0.0           0.0  \n",
       "2019-10-09 00:00:00+05:30  11313.299805  741100        0.0           0.0  \n",
       "2019-10-10 00:00:00+05:30  11234.549805  562000        0.0           0.0  \n",
       "2019-10-11 00:00:00+05:30  11305.049805  737800        0.0           0.0  "
      ]
     },
     "execution_count": 4,
     "metadata": {},
     "output_type": "execute_result"
    }
   ],
   "source": [
    "nifty_data.head()"
   ]
  },
  {
   "cell_type": "code",
   "execution_count": 5,
   "id": "ff80e9a8-45b1-4e7f-9b0d-0bf396deea33",
   "metadata": {},
   "outputs": [],
   "source": [
    "nifty_info = nifty.info"
   ]
  },
  {
   "cell_type": "code",
   "execution_count": 6,
   "id": "74f94736-8dda-47ba-af08-870534474630",
   "metadata": {},
   "outputs": [],
   "source": [
    "nifty_data['Previous Close'] = nifty_info['previousClose']\n",
    "nifty_data['52-Week High'] = nifty_info['fiftyTwoWeekHigh']\n",
    "nifty_data['52-Week Low'] = nifty_info['fiftyTwoWeekLow']\n",
    "nifty_data['50-Day Average'] = nifty_info['fiftyDayAverage']\n",
    "nifty_data['200-Day Average'] = nifty_info['twoHundredDayAverage']"
   ]
  },
  {
   "cell_type": "code",
   "execution_count": 7,
   "id": "61f0e385-2822-495e-97df-416c7714ff8b",
   "metadata": {},
   "outputs": [],
   "source": [
    "nifty_data.to_csv('nifty_data.csv')"
   ]
  },
  {
   "cell_type": "code",
   "execution_count": null,
   "id": "0eceb9b9-0150-4217-8255-2b55e9375f23",
   "metadata": {},
   "outputs": [],
   "source": []
  }
 ],
 "metadata": {
  "kernelspec": {
   "display_name": "Python 3 (ipykernel)",
   "language": "python",
   "name": "python3"
  },
  "language_info": {
   "codemirror_mode": {
    "name": "ipython",
    "version": 3
   },
   "file_extension": ".py",
   "mimetype": "text/x-python",
   "name": "python",
   "nbconvert_exporter": "python",
   "pygments_lexer": "ipython3",
   "version": "3.11.7"
  }
 },
 "nbformat": 4,
 "nbformat_minor": 5
}
