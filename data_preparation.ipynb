{
 "cells": [
  {
   "cell_type": "code",
   "execution_count": 103,
   "id": "430fb72f-47d3-4421-bb6e-6a2b3326fc63",
   "metadata": {},
   "outputs": [],
   "source": [
    "import yfinance as yf"
   ]
  },
  {
   "cell_type": "code",
   "execution_count": 105,
   "id": "a25afb65-1ed6-42d0-b7ec-fca72a84d9be",
   "metadata": {},
   "outputs": [
    {
     "data": {
      "text/plain": [
       "{'maxAge': 86400,\n",
       " 'priceHint': 2,\n",
       " 'previousClose': 25810.85,\n",
       " 'open': 25788.45,\n",
       " 'dayLow': 25739.2,\n",
       " 'dayHigh': 25907.6,\n",
       " 'regularMarketPreviousClose': 25810.85,\n",
       " 'regularMarketOpen': 25788.45,\n",
       " 'regularMarketDayLow': 25739.2,\n",
       " 'regularMarketDayHigh': 25907.6,\n",
       " 'averageVolume': 301388,\n",
       " 'averageVolume10days': 338680,\n",
       " 'averageDailyVolume10Day': 338680,\n",
       " 'fiftyTwoWeekLow': 18837.85,\n",
       " 'fiftyTwoWeekHigh': 26277.35,\n",
       " 'fiftyDayAverage': 25006.428,\n",
       " 'twoHundredDayAverage': 23077.352,\n",
       " 'currency': 'INR',\n",
       " 'exchange': 'NSI',\n",
       " 'quoteType': 'INDEX',\n",
       " 'symbol': '^NSEI',\n",
       " 'underlyingSymbol': '^NSEI',\n",
       " 'shortName': 'NIFTY 50',\n",
       " 'longName': 'NIFTY 50',\n",
       " 'firstTradeDateEpochUtc': 1190000700,\n",
       " 'timeZoneFullName': 'Asia/Kolkata',\n",
       " 'timeZoneShortName': 'IST',\n",
       " 'uuid': '9a3680d6-8f20-3f84-8cd3-66d847143a00',\n",
       " 'messageBoardId': 'finmb_INDEXNSEI',\n",
       " 'gmtOffSetMilliseconds': 19800000,\n",
       " 'trailingPegRatio': None}"
      ]
     },
     "execution_count": 105,
     "metadata": {},
     "output_type": "execute_result"
    }
   ],
   "source": [
    "nifty = yf.Ticker('^NSEI')\n",
    "nifty.info"
   ]
  },
  {
   "cell_type": "code",
   "execution_count": 111,
   "id": "0032b4b0-5940-4cf3-a987-529ab93bdc84",
   "metadata": {},
   "outputs": [],
   "source": [
    "timeframe = '2y'\n",
    "nifty_data = nifty.history(period=timeframe)"
   ]
  },
  {
   "cell_type": "code",
   "execution_count": 113,
   "id": "afad55b8-835b-4002-a281-7d6d1decdad0",
   "metadata": {},
   "outputs": [
    {
     "data": {
      "text/html": [
       "<div>\n",
       "<style scoped>\n",
       "    .dataframe tbody tr th:only-of-type {\n",
       "        vertical-align: middle;\n",
       "    }\n",
       "\n",
       "    .dataframe tbody tr th {\n",
       "        vertical-align: top;\n",
       "    }\n",
       "\n",
       "    .dataframe thead th {\n",
       "        text-align: right;\n",
       "    }\n",
       "</style>\n",
       "<table border=\"1\" class=\"dataframe\">\n",
       "  <thead>\n",
       "    <tr style=\"text-align: right;\">\n",
       "      <th></th>\n",
       "      <th>Open</th>\n",
       "      <th>High</th>\n",
       "      <th>Low</th>\n",
       "      <th>Close</th>\n",
       "      <th>Volume</th>\n",
       "      <th>Dividends</th>\n",
       "      <th>Stock Splits</th>\n",
       "    </tr>\n",
       "    <tr>\n",
       "      <th>Date</th>\n",
       "      <th></th>\n",
       "      <th></th>\n",
       "      <th></th>\n",
       "      <th></th>\n",
       "      <th></th>\n",
       "      <th></th>\n",
       "      <th></th>\n",
       "    </tr>\n",
       "  </thead>\n",
       "  <tbody>\n",
       "    <tr>\n",
       "      <th>2022-10-03 00:00:00+05:30</th>\n",
       "      <td>17102.099609</td>\n",
       "      <td>17114.650391</td>\n",
       "      <td>16855.550781</td>\n",
       "      <td>16887.349609</td>\n",
       "      <td>278400</td>\n",
       "      <td>0.0</td>\n",
       "      <td>0.0</td>\n",
       "    </tr>\n",
       "    <tr>\n",
       "      <th>2022-10-04 00:00:00+05:30</th>\n",
       "      <td>17147.449219</td>\n",
       "      <td>17287.300781</td>\n",
       "      <td>17117.300781</td>\n",
       "      <td>17274.300781</td>\n",
       "      <td>226000</td>\n",
       "      <td>0.0</td>\n",
       "      <td>0.0</td>\n",
       "    </tr>\n",
       "    <tr>\n",
       "      <th>2022-10-06 00:00:00+05:30</th>\n",
       "      <td>17379.250000</td>\n",
       "      <td>17428.800781</td>\n",
       "      <td>17315.650391</td>\n",
       "      <td>17331.800781</td>\n",
       "      <td>265500</td>\n",
       "      <td>0.0</td>\n",
       "      <td>0.0</td>\n",
       "    </tr>\n",
       "    <tr>\n",
       "      <th>2022-10-07 00:00:00+05:30</th>\n",
       "      <td>17287.199219</td>\n",
       "      <td>17337.349609</td>\n",
       "      <td>17216.949219</td>\n",
       "      <td>17314.650391</td>\n",
       "      <td>216300</td>\n",
       "      <td>0.0</td>\n",
       "      <td>0.0</td>\n",
       "    </tr>\n",
       "    <tr>\n",
       "      <th>2022-10-10 00:00:00+05:30</th>\n",
       "      <td>17094.349609</td>\n",
       "      <td>17280.150391</td>\n",
       "      <td>17064.699219</td>\n",
       "      <td>17241.000000</td>\n",
       "      <td>234000</td>\n",
       "      <td>0.0</td>\n",
       "      <td>0.0</td>\n",
       "    </tr>\n",
       "  </tbody>\n",
       "</table>\n",
       "</div>"
      ],
      "text/plain": [
       "                                   Open          High           Low  \\\n",
       "Date                                                                  \n",
       "2022-10-03 00:00:00+05:30  17102.099609  17114.650391  16855.550781   \n",
       "2022-10-04 00:00:00+05:30  17147.449219  17287.300781  17117.300781   \n",
       "2022-10-06 00:00:00+05:30  17379.250000  17428.800781  17315.650391   \n",
       "2022-10-07 00:00:00+05:30  17287.199219  17337.349609  17216.949219   \n",
       "2022-10-10 00:00:00+05:30  17094.349609  17280.150391  17064.699219   \n",
       "\n",
       "                                  Close  Volume  Dividends  Stock Splits  \n",
       "Date                                                                      \n",
       "2022-10-03 00:00:00+05:30  16887.349609  278400        0.0           0.0  \n",
       "2022-10-04 00:00:00+05:30  17274.300781  226000        0.0           0.0  \n",
       "2022-10-06 00:00:00+05:30  17331.800781  265500        0.0           0.0  \n",
       "2022-10-07 00:00:00+05:30  17314.650391  216300        0.0           0.0  \n",
       "2022-10-10 00:00:00+05:30  17241.000000  234000        0.0           0.0  "
      ]
     },
     "execution_count": 113,
     "metadata": {},
     "output_type": "execute_result"
    }
   ],
   "source": [
    "nifty_data.head()"
   ]
  },
  {
   "cell_type": "code",
   "execution_count": 115,
   "id": "ff80e9a8-45b1-4e7f-9b0d-0bf396deea33",
   "metadata": {},
   "outputs": [],
   "source": [
    "nifty_info = nifty.info"
   ]
  },
  {
   "cell_type": "code",
   "execution_count": 117,
   "id": "74f94736-8dda-47ba-af08-870534474630",
   "metadata": {},
   "outputs": [],
   "source": [
    "nifty_data['Previous Close'] = nifty_info['previousClose']\n",
    "nifty_data['52-Week High'] = nifty_info['fiftyTwoWeekHigh']\n",
    "nifty_data['52-Week Low'] = nifty_info['fiftyTwoWeekLow']\n",
    "nifty_data['50-Day Average'] = nifty_info['fiftyDayAverage']\n",
    "nifty_data['200-Day Average'] = nifty_info['twoHundredDayAverage']"
   ]
  },
  {
   "cell_type": "code",
   "execution_count": 119,
   "id": "61f0e385-2822-495e-97df-416c7714ff8b",
   "metadata": {},
   "outputs": [],
   "source": [
    "nifty_data.to_csv('nifty_data.csv')"
   ]
  },
  {
   "cell_type": "code",
   "execution_count": null,
   "id": "0eceb9b9-0150-4217-8255-2b55e9375f23",
   "metadata": {},
   "outputs": [],
   "source": []
  }
 ],
 "metadata": {
  "kernelspec": {
   "display_name": "Python 3 (ipykernel)",
   "language": "python",
   "name": "python3"
  },
  "language_info": {
   "codemirror_mode": {
    "name": "ipython",
    "version": 3
   },
   "file_extension": ".py",
   "mimetype": "text/x-python",
   "name": "python",
   "nbconvert_exporter": "python",
   "pygments_lexer": "ipython3",
   "version": "3.11.7"
  }
 },
 "nbformat": 4,
 "nbformat_minor": 5
}
